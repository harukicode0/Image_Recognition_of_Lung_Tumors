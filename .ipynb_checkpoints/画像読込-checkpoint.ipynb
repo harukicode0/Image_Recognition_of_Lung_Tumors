{
 "cells": [
  {
   "cell_type": "markdown",
   "id": "b0e03acb-1cf1-4428-8a53-7c88f97d8107",
   "metadata": {},
   "source": [
    "# CT画像の読み込み"
   ]
  },
  {
   "cell_type": "markdown",
   "id": "6fecc9ed-ab5e-46db-a945-e0d16ab31c16",
   "metadata": {},
   "source": [
    "各ファイルについて"
   ]
  },
  {
   "cell_type": "code",
   "execution_count": 5,
   "id": "0a811dd1-8b0a-4a53-9748-75c05add0a1a",
   "metadata": {},
   "outputs": [
    {
     "name": "stdout",
     "output_type": "stream",
     "text": [
      "  551066 ./data/candidates.csv\n"
     ]
    }
   ],
   "source": [
    "# 頭に！をつけることでlinuxコマンドを実行できる、行数を数える\n",
    "!wc -l ./data/candidates.csv"
   ]
  },
  {
   "cell_type": "code",
   "execution_count": 58,
   "id": "dd702870-aa0f-4bf3-a7cf-f742f5c1ea96",
   "metadata": {},
   "outputs": [
    {
     "name": "stdout",
     "output_type": "stream",
     "text": [
      "1.3.6.1.4.1.14519.5.2.1.6279.6001.100225287222365663678666836860,-56.08,-67.85,-311.92,0\n"
     ]
    }
   ],
   "source": [
    "! head -n 2 data/candidates.csv"
   ]
  },
  {
   "cell_type": "code",
   "execution_count": 34,
   "id": "f81d4d48-5693-4064-bbba-2a927a62110a",
   "metadata": {},
   "outputs": [
    {
     "name": "stdout",
     "output_type": "stream",
     "text": [
      "       0\n"
     ]
    }
   ],
   "source": [
    "! grep ',1$' ./data/candidates.csv | wc -l"
   ]
  },
  {
   "cell_type": "code",
   "execution_count": 61,
   "id": "4e534da9-ced4-43fa-83ba-751cc2e54f27",
   "metadata": {},
   "outputs": [],
   "source": []
  },
  {
   "cell_type": "code",
   "execution_count": null,
   "id": "ca2f9b3a-a41c-4101-99a3-f2a6e653a548",
   "metadata": {},
   "outputs": [],
   "source": []
  }
 ],
 "metadata": {
  "kernelspec": {
   "display_name": "Python 3 (ipykernel)",
   "language": "python",
   "name": "python3"
  },
  "language_info": {
   "codemirror_mode": {
    "name": "ipython",
    "version": 3
   },
   "file_extension": ".py",
   "mimetype": "text/x-python",
   "name": "python",
   "nbconvert_exporter": "python",
   "pygments_lexer": "ipython3",
   "version": "3.9.12"
  }
 },
 "nbformat": 4,
 "nbformat_minor": 5
}
