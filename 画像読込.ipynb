{
 "cells": [
  {
   "cell_type": "markdown",
   "id": "b0e03acb-1cf1-4428-8a53-7c88f97d8107",
   "metadata": {},
   "source": [
    "# CT画像の読み込み"
   ]
  },
  {
   "cell_type": "markdown",
   "id": "6fecc9ed-ab5e-46db-a945-e0d16ab31c16",
   "metadata": {},
   "source": [
    "各ファイルについて\n",
    "- candidates.csv  \n",
    "  CTデータの系列が何であるか、結節候補の座標情報、候補が実際に結束であるか否かのフラグを示す。\n",
    "\n",
    "- annotations.csv  \n",
    "  結節フラグが建てられた候補に対して、追加の情報を記載しているデータ。追加情報は結節の大きさ  \n",
    "  このデータを利用することで、訓練データと検証データの結節の大きさの分散を似たようなものにできる＝確率分布が似る。  \n",
    "  ⇨大小様々な結束を判別する必要があるため各データで分散は一致していた方が望ましい。  "
   ]
  },
  {
   "cell_type": "markdown",
   "id": "2f866bf7-7dd6-4dcb-9f17-129f5703382d",
   "metadata": {},
   "source": [
    "# import"
   ]
  },
  {
   "cell_type": "code",
   "execution_count": 112,
   "id": "bc3d89b2-4f16-48b2-8b55-9e477b51a8cb",
   "metadata": {},
   "outputs": [],
   "source": [
    "import torch\n",
    "import copy\n",
    "import numpy as np\n",
    "import matplotlib.pyplot as plt\n",
    "from dsets import getCandidateInfoList, getCt, LunaDataset\n",
    "from util.util import xyz2irc\n",
    "import training\n",
    "import pandas as pd\n",
    "import os\n",
    "import shutil"
   ]
  },
  {
   "cell_type": "markdown",
   "id": "7ae6fdc6-cd7d-4b6c-b78d-faabc08ebcfb",
   "metadata": {},
   "source": [
    "# CTデータの確認"
   ]
  },
  {
   "cell_type": "code",
   "execution_count": 5,
   "id": "0a811dd1-8b0a-4a53-9748-75c05add0a1a",
   "metadata": {},
   "outputs": [
    {
     "name": "stdout",
     "output_type": "stream",
     "text": [
      "  551066 ./data/candidates.csv\n"
     ]
    }
   ],
   "source": [
    "# 頭に！をつけることでlinuxコマンドを実行できる、行数を数える\n",
    "!wc -l ./data/candidates.csv"
   ]
  },
  {
   "cell_type": "code",
   "execution_count": 58,
   "id": "dd702870-aa0f-4bf3-a7cf-f742f5c1ea96",
   "metadata": {},
   "outputs": [
    {
     "name": "stdout",
     "output_type": "stream",
     "text": [
      "1.3.6.1.4.1.14519.5.2.1.6279.6001.100225287222365663678666836860,-56.08,-67.85,-311.92,0\n"
     ]
    }
   ],
   "source": [
    "! head -n 2 data/candidates.csv"
   ]
  },
  {
   "cell_type": "code",
   "execution_count": 34,
   "id": "f81d4d48-5693-4064-bbba-2a927a62110a",
   "metadata": {},
   "outputs": [
    {
     "name": "stdout",
     "output_type": "stream",
     "text": [
      "       0\n"
     ]
    }
   ],
   "source": [
    "! grep ',1$' ./data/candidates.csv | wc -l"
   ]
  },
  {
   "cell_type": "code",
   "execution_count": 2,
   "id": "ca2f9b3a-a41c-4101-99a3-f2a6e653a548",
   "metadata": {},
   "outputs": [
    {
     "data": {
      "text/html": [
       "<div>\n",
       "<style scoped>\n",
       "    .dataframe tbody tr th:only-of-type {\n",
       "        vertical-align: middle;\n",
       "    }\n",
       "\n",
       "    .dataframe tbody tr th {\n",
       "        vertical-align: top;\n",
       "    }\n",
       "\n",
       "    .dataframe thead th {\n",
       "        text-align: right;\n",
       "    }\n",
       "</style>\n",
       "<table border=\"1\" class=\"dataframe\">\n",
       "  <thead>\n",
       "    <tr style=\"text-align: right;\">\n",
       "      <th></th>\n",
       "      <th>seriesuid</th>\n",
       "      <th>coordX</th>\n",
       "      <th>coordY</th>\n",
       "      <th>coordZ</th>\n",
       "      <th>class</th>\n",
       "    </tr>\n",
       "  </thead>\n",
       "  <tbody>\n",
       "    <tr>\n",
       "      <th>0</th>\n",
       "      <td>1.3.6.1.4.1.14519.5.2.1.6279.6001.100225287222...</td>\n",
       "      <td>-56.08</td>\n",
       "      <td>-67.85</td>\n",
       "      <td>-311.92</td>\n",
       "      <td>0</td>\n",
       "    </tr>\n",
       "    <tr>\n",
       "      <th>1</th>\n",
       "      <td>1.3.6.1.4.1.14519.5.2.1.6279.6001.100225287222...</td>\n",
       "      <td>53.21</td>\n",
       "      <td>-244.41</td>\n",
       "      <td>-245.17</td>\n",
       "      <td>0</td>\n",
       "    </tr>\n",
       "    <tr>\n",
       "      <th>2</th>\n",
       "      <td>1.3.6.1.4.1.14519.5.2.1.6279.6001.100225287222...</td>\n",
       "      <td>103.66</td>\n",
       "      <td>-121.80</td>\n",
       "      <td>-286.62</td>\n",
       "      <td>0</td>\n",
       "    </tr>\n",
       "    <tr>\n",
       "      <th>3</th>\n",
       "      <td>1.3.6.1.4.1.14519.5.2.1.6279.6001.100225287222...</td>\n",
       "      <td>-33.66</td>\n",
       "      <td>-72.75</td>\n",
       "      <td>-308.41</td>\n",
       "      <td>0</td>\n",
       "    </tr>\n",
       "    <tr>\n",
       "      <th>4</th>\n",
       "      <td>1.3.6.1.4.1.14519.5.2.1.6279.6001.100225287222...</td>\n",
       "      <td>-32.25</td>\n",
       "      <td>-85.36</td>\n",
       "      <td>-362.51</td>\n",
       "      <td>0</td>\n",
       "    </tr>\n",
       "  </tbody>\n",
       "</table>\n",
       "</div>"
      ],
      "text/plain": [
       "                                           seriesuid  coordX  coordY  coordZ  \\\n",
       "0  1.3.6.1.4.1.14519.5.2.1.6279.6001.100225287222...  -56.08  -67.85 -311.92   \n",
       "1  1.3.6.1.4.1.14519.5.2.1.6279.6001.100225287222...   53.21 -244.41 -245.17   \n",
       "2  1.3.6.1.4.1.14519.5.2.1.6279.6001.100225287222...  103.66 -121.80 -286.62   \n",
       "3  1.3.6.1.4.1.14519.5.2.1.6279.6001.100225287222...  -33.66  -72.75 -308.41   \n",
       "4  1.3.6.1.4.1.14519.5.2.1.6279.6001.100225287222...  -32.25  -85.36 -362.51   \n",
       "\n",
       "   class  \n",
       "0      0  \n",
       "1      0  \n",
       "2      0  \n",
       "3      0  \n",
       "4      0  "
      ]
     },
     "execution_count": 2,
     "metadata": {},
     "output_type": "execute_result"
    }
   ],
   "source": [
    "data = pd.read_csv('data/candidates.csv')\n",
    "data.head()"
   ]
  },
  {
   "cell_type": "code",
   "execution_count": 6,
   "id": "7445a433-5564-4a1b-a6c1-8d3be7d9663a",
   "metadata": {},
   "outputs": [
    {
     "data": {
      "text/plain": [
       "(551065, 5)"
      ]
     },
     "execution_count": 6,
     "metadata": {},
     "output_type": "execute_result"
    }
   ],
   "source": [
    "data.shape"
   ]
  },
  {
   "cell_type": "code",
   "execution_count": 8,
   "id": "328eb072-4e64-42d5-926e-04b101d9c8aa",
   "metadata": {},
   "outputs": [
    {
     "data": {
      "text/plain": [
       "Index(['seriesuid', 'coordX', 'coordY', 'coordZ', 'class'], dtype='object')"
      ]
     },
     "execution_count": 8,
     "metadata": {},
     "output_type": "execute_result"
    }
   ],
   "source": [
    "data.columns"
   ]
  },
  {
   "cell_type": "code",
   "execution_count": 17,
   "id": "4a350cf8-b9f1-4187-a777-d556b4c52aff",
   "metadata": {},
   "outputs": [
    {
     "data": {
      "text/plain": [
       "(1351, 0.0024516164154863764)"
      ]
     },
     "execution_count": 17,
     "metadata": {},
     "output_type": "execute_result"
    }
   ],
   "source": [
    "# ラベルが１のデータの数と比率を確認\n",
    "(data['class'] == 1).sum(), (data['class'] == 1).sum()/data['class'].count() "
   ]
  },
  {
   "cell_type": "code",
   "execution_count": 20,
   "id": "be72b386-7a92-4c32-bc50-9727c2cc4c0b",
   "metadata": {},
   "outputs": [
    {
     "name": "stdout",
     "output_type": "stream",
     "text": [
      "    1187 ./data/annotations.csv\n"
     ]
    }
   ],
   "source": [
    "! wc -l ./data/annotations.csv"
   ]
  },
  {
   "cell_type": "code",
   "execution_count": 22,
   "id": "962d02ea-1f83-44d7-948e-debea2313962",
   "metadata": {},
   "outputs": [
    {
     "name": "stdout",
     "output_type": "stream",
     "text": [
      "seriesuid,coordX,coordY,coordZ,diameter_mm\n",
      "1.3.6.1.4.1.14519.5.2.1.6279.6001.100225287222365663678666836860,-128.6994211,-175.3192718,-298.3875064,5.651470635\n",
      "1.3.6.1.4.1.14519.5.2.1.6279.6001.100225287222365663678666836860,103.7836509,-211.9251487,-227.12125,4.224708481\n",
      "1.3.6.1.4.1.14519.5.2.1.6279.6001.100398138793540579077826395208,69.63901724,-140.9445859,876.3744957,5.786347814\n",
      "1.3.6.1.4.1.14519.5.2.1.6279.6001.100621383016233746780170740405,-24.0138242,192.1024053,-391.0812764,8.143261683\n",
      "1.3.6.1.4.1.14519.5.2.1.6279.6001.100621383016233746780170740405,2.441546798,172.4648812,-405.4937318,18.54514997\n",
      "1.3.6.1.4.1.14519.5.2.1.6279.6001.100621383016233746780170740405,90.93171321,149.0272657,-426.5447146,18.20857028\n",
      "1.3.6.1.4.1.14519.5.2.1.6279.6001.100621383016233746780170740405,89.54076865,196.4051593,-515.0733216,16.38127631\n",
      "1.3.6.1.4.1.14519.5.2.1.6279.6001.100953483028192176989979435275,81.50964574,54.9572186,-150.3464233,10.36232088\n",
      "1.3.6.1.4.1.14519.5.2.1.6279.6001.102681962408431413578140925249,105.0557924,19.82526014,-91.24725078,21.08961863\n"
     ]
    }
   ],
   "source": [
    "!head data/annotations.csv"
   ]
  },
  {
   "cell_type": "code",
   "execution_count": 44,
   "id": "a4dc024c-5496-4d4a-aa88-fd4483a301ea",
   "metadata": {},
   "outputs": [
    {
     "name": "stdout",
     "output_type": "stream",
     "text": [
      "1.3.6.1.4.1.14519.5.2.1.6279.6001.100225287222365663678666836860,-128.6994211,-175.3192718,-298.3875064,5.651470635\n",
      "1.3.6.1.4.1.14519.5.2.1.6279.6001.100225287222365663678666836860,103.7836509,-211.9251487,-227.12125,4.224708481\n"
     ]
    },
    {
     "data": {
      "text/html": [
       "<div>\n",
       "<style scoped>\n",
       "    .dataframe tbody tr th:only-of-type {\n",
       "        vertical-align: middle;\n",
       "    }\n",
       "\n",
       "    .dataframe tbody tr th {\n",
       "        vertical-align: top;\n",
       "    }\n",
       "\n",
       "    .dataframe thead th {\n",
       "        text-align: right;\n",
       "    }\n",
       "</style>\n",
       "<table border=\"1\" class=\"dataframe\">\n",
       "  <thead>\n",
       "    <tr style=\"text-align: right;\">\n",
       "      <th></th>\n",
       "      <th>seriesuid</th>\n",
       "      <th>coordX</th>\n",
       "      <th>coordY</th>\n",
       "      <th>coordZ</th>\n",
       "      <th>class</th>\n",
       "    </tr>\n",
       "  </thead>\n",
       "  <tbody>\n",
       "    <tr>\n",
       "      <th>13</th>\n",
       "      <td>1.3.6.1.4.1.14519.5.2.1.6279.6001.100225287222...</td>\n",
       "      <td>104.164804</td>\n",
       "      <td>-211.685591</td>\n",
       "      <td>-227.011364</td>\n",
       "      <td>1</td>\n",
       "    </tr>\n",
       "    <tr>\n",
       "      <th>78</th>\n",
       "      <td>1.3.6.1.4.1.14519.5.2.1.6279.6001.100225287222...</td>\n",
       "      <td>-128.940000</td>\n",
       "      <td>-175.040000</td>\n",
       "      <td>-297.870000</td>\n",
       "      <td>1</td>\n",
       "    </tr>\n",
       "  </tbody>\n",
       "</table>\n",
       "</div>"
      ],
      "text/plain": [
       "                                            seriesuid      coordX      coordY  \\\n",
       "13  1.3.6.1.4.1.14519.5.2.1.6279.6001.100225287222...  104.164804 -211.685591   \n",
       "78  1.3.6.1.4.1.14519.5.2.1.6279.6001.100225287222... -128.940000 -175.040000   \n",
       "\n",
       "        coordZ  class  \n",
       "13 -227.011364      1  \n",
       "78 -297.870000      1  "
      ]
     },
     "execution_count": 44,
     "metadata": {},
     "output_type": "execute_result"
    }
   ],
   "source": [
    "# 対応しているもの同士を確認すると、座標に若干のずれがある。原因は結束の大きさが存在するため\n",
    "# 修正する労力と、それに対する効果が見込めないため、ずれがあるまま分析する\n",
    "! grep 1.3.6.1.4.1.14519.5.2.1.6279.6001.100225287222365663678666836860 ./data/annotations.csv\n",
    "\n",
    "# ! grep '1.3.6.1.4.1.14519.5.2.1.6279.6001.100225287222365663678666836860.*' ./data/candidates.csv\n",
    "data.loc[(data['seriesuid'] == '1.3.6.1.4.1.14519.5.2.1.6279.6001.100225287222365663678666836860') & (data['class'] == 1), :]"
   ]
  },
  {
   "cell_type": "code",
   "execution_count": null,
   "id": "63eb7e5f-06b9-4973-a9f0-69e9eac7bca3",
   "metadata": {},
   "outputs": [],
   "source": []
  },
  {
   "cell_type": "markdown",
   "id": "00d24088-6094-4911-8e8c-2a035ddab248",
   "metadata": {},
   "source": [
    "## candidates.csvとannotations.csvの２つを繋ぎ合わせる関数を作成する"
   ]
  },
  {
   "cell_type": "code",
   "execution_count": 46,
   "id": "41c4940c-4881-4764-8750-997f9bf202bb",
   "metadata": {},
   "outputs": [],
   "source": [
    "from collections import namedtuple\n",
    "CandidateInfoTuple = namedtuple('CandidateInfoTuple',\n",
    "                               'isNodule_bool, diameter_mm, series_uid, center_xyz',\n",
    "                               )"
   ]
  },
  {
   "cell_type": "code",
   "execution_count": 47,
   "id": "a04adfb8-cbee-4a65-97f0-adf214d0abd7",
   "metadata": {},
   "outputs": [
    {
     "data": {
      "text/plain": [
       "__main__.CandidateInfoTuple"
      ]
     },
     "execution_count": 47,
     "metadata": {},
     "output_type": "execute_result"
    }
   ],
   "source": [
    "CandidateInfoTuple"
   ]
  },
  {
   "cell_type": "markdown",
   "id": "a7a045f5-5386-43e8-b3e8-092afa4e26a0",
   "metadata": {},
   "source": [
    "サニタイズ（不要部分の除去）、クレンジング（整形）"
   ]
  },
  {
   "cell_type": "markdown",
   "id": "3f50d35e-1730-413f-be5f-96f34a6c8bcc",
   "metadata": {},
   "source": [
    "## CTスキャンデータの読み込み"
   ]
  },
  {
   "cell_type": "code",
   "execution_count": 76,
   "id": "c3985d79-e627-4d65-92fd-510f7e2883ac",
   "metadata": {},
   "outputs": [],
   "source": [
    "from dsets import getCandidateInfoList, getCt, LunaDataset"
   ]
  },
  {
   "cell_type": "code",
   "execution_count": 77,
   "id": "5e78a127-bf40-4ab6-b72a-b2a2c42a4bcd",
   "metadata": {},
   "outputs": [],
   "source": [
    "candidateInfo_list = getCandidateInfoList(requireOnDisk_bool=False)\n",
    "positiveInfo_list = [x for x in candidateInfo_list if x[0]]\n",
    "diameter_list = [x[1] for x in positiveInfo_list]"
   ]
  },
  {
   "cell_type": "code",
   "execution_count": 78,
   "id": "19c03aed-7383-4fd6-8525-f8f9d502765f",
   "metadata": {},
   "outputs": [
    {
     "name": "stdout",
     "output_type": "stream",
     "text": [
      "1351\n",
      "CandidateInfoTuple(isNodule_bool=True, diameter_mm=32.27003025, series_uid='1.3.6.1.4.1.14519.5.2.1.6279.6001.287966244644280690737019247886', center_xyz=(67.61451718, 85.02525992, -109.8084416))\n"
     ]
    }
   ],
   "source": [
    "print(len(positiveInfo_list))\n",
    "print(positiveInfo_list[0])"
   ]
  },
  {
   "cell_type": "code",
   "execution_count": 79,
   "id": "21429655-3f8c-4be4-9e1e-7c5d4258bfc2",
   "metadata": {},
   "outputs": [
    {
     "name": "stdout",
     "output_type": "stream",
     "text": [
      "   0  32.3 mm\n",
      " 100  17.7 mm\n",
      " 200  13.0 mm\n",
      " 300  10.0 mm\n",
      " 400   8.2 mm\n",
      " 500   7.0 mm\n",
      " 600   6.3 mm\n",
      " 700   5.7 mm\n",
      " 800   5.1 mm\n",
      " 900   4.7 mm\n",
      "1000   4.0 mm\n",
      "1100   0.0 mm\n",
      "1200   0.0 mm\n",
      "1300   0.0 mm\n"
     ]
    }
   ],
   "source": [
    "# サニティーチェック\n",
    "for i in range(0, len(diameter_list), 100):\n",
    "    print('{:4}  {:4.1f} mm'.format(i, diameter_list[i]))"
   ]
  },
  {
   "cell_type": "code",
   "execution_count": 80,
   "id": "0509c353-7c83-424a-a958-ed87cad693ea",
   "metadata": {
    "collapsed": true,
    "jupyter": {
     "outputs_hidden": true
    },
    "tags": []
   },
   "outputs": [
    {
     "name": "stdout",
     "output_type": "stream",
     "text": [
      "CandidateInfoTuple(isNodule_bool=True, diameter_mm=32.27003025, series_uid='1.3.6.1.4.1.14519.5.2.1.6279.6001.287966244644280690737019247886', center_xyz=(67.61451718, 85.02525992, -109.8084416))\n",
      "CandidateInfoTuple(isNodule_bool=True, diameter_mm=30.61040636, series_uid='1.3.6.1.4.1.14519.5.2.1.6279.6001.112740418331256326754121315800', center_xyz=(47.90350511, 37.60442008, -99.93417567))\n",
      "CandidateInfoTuple(isNodule_bool=True, diameter_mm=30.61040636, series_uid='1.3.6.1.4.1.14519.5.2.1.6279.6001.112740418331256326754121315800', center_xyz=(44.19, 37.79, -107.01))\n",
      "CandidateInfoTuple(isNodule_bool=True, diameter_mm=30.61040636, series_uid='1.3.6.1.4.1.14519.5.2.1.6279.6001.112740418331256326754121315800', center_xyz=(40.69, 32.19, -97.15))\n",
      "CandidateInfoTuple(isNodule_bool=True, diameter_mm=27.44242293, series_uid='1.3.6.1.4.1.14519.5.2.1.6279.6001.943403138251347598519939390311', center_xyz=(-45.29440163, 74.86925386, -97.52812481))\n",
      "CandidateInfoTuple(isNodule_bool=True, diameter_mm=27.07544345, series_uid='1.3.6.1.4.1.14519.5.2.1.6279.6001.481278873893653517789960724156', center_xyz=(-102.571208, -5.186558766, -205.1033412))\n",
      "CandidateInfoTuple(isNodule_bool=True, diameter_mm=26.83708074, series_uid='1.3.6.1.4.1.14519.5.2.1.6279.6001.487268565754493433372433148666', center_xyz=(121.152909372, 12.9136003304, -159.399497186))\n",
      "CandidateInfoTuple(isNodule_bool=True, diameter_mm=26.83708074, series_uid='1.3.6.1.4.1.14519.5.2.1.6279.6001.487268565754493433372433148666', center_xyz=(118.8539408, 11.54202797, -165.5042458))\n",
      "CandidateInfoTuple(isNodule_bool=True, diameter_mm=25.87269662, series_uid='1.3.6.1.4.1.14519.5.2.1.6279.6001.177086402277715068525592995222', center_xyz=(-66.628286875, 57.151972075, -110.12035075))\n",
      "CandidateInfoTuple(isNodule_bool=True, diameter_mm=25.41540526, series_uid='1.3.6.1.4.1.14519.5.2.1.6279.6001.219618492426142913407827034169', center_xyz=(-101.7504204, -95.65460516, -138.4943211))\n",
      "CandidateInfoTuple(isNodule_bool=True, diameter_mm=0.0, series_uid='1.3.6.1.4.1.14519.5.2.1.6279.6001.107109359065300889765026303943', center_xyz=(-100.57, -66.23, -218.76))\n",
      "CandidateInfoTuple(isNodule_bool=True, diameter_mm=0.0, series_uid='1.3.6.1.4.1.14519.5.2.1.6279.6001.106379658920626694402549886949', center_xyz=(-71.09, 68.3, -160.4))\n",
      "CandidateInfoTuple(isNodule_bool=True, diameter_mm=0.0, series_uid='1.3.6.1.4.1.14519.5.2.1.6279.6001.102681962408431413578140925249', center_xyz=(106.18, 12.61, -96.81))\n",
      "CandidateInfoTuple(isNodule_bool=True, diameter_mm=0.0, series_uid='1.3.6.1.4.1.14519.5.2.1.6279.6001.102681962408431413578140925249', center_xyz=(96.2846726653, 19.0348690723, -88.478440818))\n",
      "CandidateInfoTuple(isNodule_bool=True, diameter_mm=0.0, series_uid='1.3.6.1.4.1.14519.5.2.1.6279.6001.100621383016233746780170740405', center_xyz=(89.32, 190.84, -516.82))\n",
      "CandidateInfoTuple(isNodule_bool=True, diameter_mm=0.0, series_uid='1.3.6.1.4.1.14519.5.2.1.6279.6001.100621383016233746780170740405', center_xyz=(89.32, 143.23, -427.1))\n",
      "CandidateInfoTuple(isNodule_bool=True, diameter_mm=0.0, series_uid='1.3.6.1.4.1.14519.5.2.1.6279.6001.100621383016233746780170740405', center_xyz=(85.12, 152.33, -425.7))\n",
      "CandidateInfoTuple(isNodule_bool=True, diameter_mm=0.0, series_uid='1.3.6.1.4.1.14519.5.2.1.6279.6001.100621383016233746780170740405', center_xyz=(8.8, 174.74, -401.87))\n",
      "CandidateInfoTuple(isNodule_bool=True, diameter_mm=0.0, series_uid='1.3.6.1.4.1.14519.5.2.1.6279.6001.100621383016233746780170740405', center_xyz=(5.99, 171.94, -398.37))\n",
      "CandidateInfoTuple(isNodule_bool=True, diameter_mm=0.0, series_uid='1.3.6.1.4.1.14519.5.2.1.6279.6001.100621383016233746780170740405', center_xyz=(1.79, 166.34, -408.88))\n",
      "CandidateInfoTuple(isNodule_bool=True, diameter_mm=0.0, series_uid='1.3.6.1.4.1.14519.5.2.1.6279.6001.124154461048929153767743874565', center_xyz=(146.12, -160.55, -309.93))\n"
     ]
    }
   ],
   "source": [
    "for candidateInfo_tup in positiveInfo_list[:10]:\n",
    "    print(candidateInfo_tup)\n",
    "for candidateInfo_tup in positiveInfo_list[-10:]:\n",
    "    print(candidateInfo_tup)\n",
    "    \n",
    "for candidateInfo_tup in positiveInfo_list:\n",
    "    if candidateInfo_tup.series_uid.endswith('565'):\n",
    "        print(candidateInfo_tup)"
   ]
  },
  {
   "cell_type": "markdown",
   "id": "9dd99e93-ff38-484c-9fde-0049c2d64f1f",
   "metadata": {},
   "source": [
    "## CTスキャンデータの可視化"
   ]
  },
  {
   "cell_type": "code",
   "execution_count": 82,
   "id": "fdcd5bec-0660-4e7c-a142-f6e3d44a1395",
   "metadata": {
    "collapsed": true,
    "jupyter": {
     "outputs_hidden": true
    },
    "tags": []
   },
   "outputs": [
    {
     "name": "stderr",
     "output_type": "stream",
     "text": [
      "2023-01-24 18:22:43,884 INFO     pid:76696 dsets:171:__init__ <dsets.LunaDataset object at 0x7fe8abe9b190>: 332303 training samples\n"
     ]
    },
    {
     "name": "stdout",
     "output_type": "stream",
     "text": [
      "0 CandidateInfoTuple(isNodule_bool=True, diameter_mm=8.604619037, series_uid='1.3.6.1.4.1.14519.5.2.1.6279.6001.202643836890896697853521610450', center_xyz=(-83.0252220779, 9.03100547806, -85.3494928471))\n",
      "1 CandidateInfoTuple(isNodule_bool=True, diameter_mm=0.0, series_uid='1.3.6.1.4.1.14519.5.2.1.6279.6001.111258527162678142285870245028', center_xyz=(-117.47, 40.27, -136.63))\n",
      "2 CandidateInfoTuple(isNodule_bool=True, diameter_mm=7.121051509, series_uid='1.3.6.1.4.1.14519.5.2.1.6279.6001.413896555982844732694353377538', center_xyz=(-42.49, 40.6, -169.89))\n",
      "3 CandidateInfoTuple(isNodule_bool=True, diameter_mm=5.100020792, series_uid='1.3.6.1.4.1.14519.5.2.1.6279.6001.308655308958459380153492314021', center_xyz=(-85.71, -180.34, -108.32))\n",
      "4 CandidateInfoTuple(isNodule_bool=True, diameter_mm=8.315884851, series_uid='1.3.6.1.4.1.14519.5.2.1.6279.6001.177685820605315926524514718990', center_xyz=(-74.97714965, 81.5241072, -124.82781035))\n",
      "5 CandidateInfoTuple(isNodule_bool=True, diameter_mm=4.717405126, series_uid='1.3.6.1.4.1.14519.5.2.1.6279.6001.277445975068759205899107114231', center_xyz=(-48.6932637254, -65.6001064436, -209.327417951))\n",
      "6 CandidateInfoTuple(isNodule_bool=True, diameter_mm=6.709234609, series_uid='1.3.6.1.4.1.14519.5.2.1.6279.6001.214800939017429618305208626314', center_xyz=(83.82, -80.58, -282.58))\n",
      "7 CandidateInfoTuple(isNodule_bool=True, diameter_mm=6.898836492, series_uid='1.3.6.1.4.1.14519.5.2.1.6279.6001.283569726884265181140892667131', center_xyz=(112.328401801, 34.5118716501, -155.994694761))\n",
      "8 CandidateInfoTuple(isNodule_bool=True, diameter_mm=0.0, series_uid='1.3.6.1.4.1.14519.5.2.1.6279.6001.154837327827713479309898027966', center_xyz=(121.51, 61.01, -227.31))\n",
      "9 CandidateInfoTuple(isNodule_bool=True, diameter_mm=18.67552564, series_uid='1.3.6.1.4.1.14519.5.2.1.6279.6001.970428941353693253759289796610', center_xyz=(-115.0750247, 64.37987761, -140.4059531))\n",
      "10 CandidateInfoTuple(isNodule_bool=True, diameter_mm=5.253525386, series_uid='1.3.6.1.4.1.14519.5.2.1.6279.6001.241570579760883349458693655367', center_xyz=(-124.08, 127.67, 1633.06))\n",
      "11 CandidateInfoTuple(isNodule_bool=True, diameter_mm=3.90241061, series_uid='1.3.6.1.4.1.14519.5.2.1.6279.6001.324290109423920971676288828329', center_xyz=(-106.68, -230.31, -197.0))\n",
      "12 CandidateInfoTuple(isNodule_bool=True, diameter_mm=0.0, series_uid='1.3.6.1.4.1.14519.5.2.1.6279.6001.404768898286087278137462774930', center_xyz=(84.1279124844, 219.70871092, -584.02544941))\n",
      "13 CandidateInfoTuple(isNodule_bool=True, diameter_mm=0.0, series_uid='1.3.6.1.4.1.14519.5.2.1.6279.6001.174907798609768549012640380786', center_xyz=(-42.8276111001, -43.6017923001, -146.063294365))\n",
      "14 CandidateInfoTuple(isNodule_bool=True, diameter_mm=5.498132148, series_uid='1.3.6.1.4.1.14519.5.2.1.6279.6001.147250707071097813243473865421', center_xyz=(-9.99855338357, 96.4954361664, -115.434543081))\n",
      "15 CandidateInfoTuple(isNodule_bool=True, diameter_mm=6.326436035, series_uid='1.3.6.1.4.1.14519.5.2.1.6279.6001.299767339686526858593516834230', center_xyz=(96.35, -45.18, -86.66))\n",
      "16 CandidateInfoTuple(isNodule_bool=True, diameter_mm=4.813145858, series_uid='1.3.6.1.4.1.14519.5.2.1.6279.6001.219087313261026510628926082729', center_xyz=(-61.1318931033, 224.376802237, -633.722209393))\n",
      "17 CandidateInfoTuple(isNodule_bool=True, diameter_mm=24.77327957, series_uid='1.3.6.1.4.1.14519.5.2.1.6279.6001.146987333806092287055399155268', center_xyz=(92.04749503, -21.50898302, -258.0493441))\n",
      "18 CandidateInfoTuple(isNodule_bool=True, diameter_mm=8.846172298, series_uid='1.3.6.1.4.1.14519.5.2.1.6279.6001.910435939545691201820711078950', center_xyz=(16.3742147445, -29.7918093811, -142.756676798))\n",
      "19 CandidateInfoTuple(isNodule_bool=True, diameter_mm=6.049591287, series_uid='1.3.6.1.4.1.14519.5.2.1.6279.6001.141430002307216644912805017227', center_xyz=(157.12, -148.84, -279.35))\n",
      "20 CandidateInfoTuple(isNodule_bool=True, diameter_mm=22.13322034, series_uid='1.3.6.1.4.1.14519.5.2.1.6279.6001.121391737347333465796214915391', center_xyz=(51.27, -67.3, -117.57))\n",
      "21 CandidateInfoTuple(isNodule_bool=True, diameter_mm=16.09508736, series_uid='1.3.6.1.4.1.14519.5.2.1.6279.6001.306948744223170422945185006551', center_xyz=(98.9776983169, 15.2227351415, -106.527415396))\n",
      "22 CandidateInfoTuple(isNodule_bool=True, diameter_mm=0.0, series_uid='1.3.6.1.4.1.14519.5.2.1.6279.6001.183184435049555024219115904825', center_xyz=(34.74, 18.69, -77.87))\n",
      "23 CandidateInfoTuple(isNodule_bool=True, diameter_mm=9.883424209, series_uid='1.3.6.1.4.1.14519.5.2.1.6279.6001.826829446346820089862659555750', center_xyz=(40.7141141817, 75.6160620187, -229.780999042))\n",
      "24 CandidateInfoTuple(isNodule_bool=True, diameter_mm=6.310673697, series_uid='1.3.6.1.4.1.14519.5.2.1.6279.6001.138904664700896606480369521124', center_xyz=(-90.65, -158.74, -181.02))\n",
      "25 CandidateInfoTuple(isNodule_bool=True, diameter_mm=13.20481203, series_uid='1.3.6.1.4.1.14519.5.2.1.6279.6001.225227615446398900698431118292', center_xyz=(38.34262343, 76.25022792, -216.8597756))\n",
      "26 CandidateInfoTuple(isNodule_bool=True, diameter_mm=8.743609647, series_uid='1.3.6.1.4.1.14519.5.2.1.6279.6001.224465398054769500989828256685', center_xyz=(-141.053376723, 187.940953472, -791.057427519))\n",
      "27 CandidateInfoTuple(isNodule_bool=True, diameter_mm=7.888814398, series_uid='1.3.6.1.4.1.14519.5.2.1.6279.6001.134996872583497382954024478441', center_xyz=(-69.3825, 56.288020835, -81.68967418))\n",
      "28 CandidateInfoTuple(isNodule_bool=True, diameter_mm=12.71396134, series_uid='1.3.6.1.4.1.14519.5.2.1.6279.6001.290135156874098366424871975734', center_xyz=(79.9664483964, 58.2317582047, -151.265487669))\n",
      "29 CandidateInfoTuple(isNodule_bool=True, diameter_mm=9.991058045, series_uid='1.3.6.1.4.1.14519.5.2.1.6279.6001.321465552859463184018938648244', center_xyz=(-21.31243538, -83.9498778, -162.89356765))\n",
      "30 CandidateInfoTuple(isNodule_bool=True, diameter_mm=7.72427841, series_uid='1.3.6.1.4.1.14519.5.2.1.6279.6001.250397690690072950000431855143', center_xyz=(125.68, 44.25, -165.7))\n",
      "31 CandidateInfoTuple(isNodule_bool=True, diameter_mm=16.18466141, series_uid='1.3.6.1.4.1.14519.5.2.1.6279.6001.144883090372691745980459537053', center_xyz=(136.58791095, 49.6432006972, -311.286639053))\n",
      "32 CandidateInfoTuple(isNodule_bool=True, diameter_mm=6.961023634, series_uid='1.3.6.1.4.1.14519.5.2.1.6279.6001.122914038048856168343065566972', center_xyz=(-143.428359038, 77.0942185561, -261.100726272))\n",
      "33 CandidateInfoTuple(isNodule_bool=True, diameter_mm=25.23320204, series_uid='1.3.6.1.4.1.14519.5.2.1.6279.6001.511347030803753100045216493273', center_xyz=(63.4740118048, 73.9174523314, -213.736128767))\n",
      "34 CandidateInfoTuple(isNodule_bool=True, diameter_mm=0.0, series_uid='1.3.6.1.4.1.14519.5.2.1.6279.6001.107351566259572521472765997306', center_xyz=(102.09, -181.38, -223.47))\n",
      "35 CandidateInfoTuple(isNodule_bool=True, diameter_mm=0.0, series_uid='1.3.6.1.4.1.14519.5.2.1.6279.6001.624425075947752229712087113746', center_xyz=(-73.7635001675, -55.7414627565, -255.500593857))\n",
      "36 CandidateInfoTuple(isNodule_bool=True, diameter_mm=0.0, series_uid='1.3.6.1.4.1.14519.5.2.1.6279.6001.269075535958871753309238331179', center_xyz=(-15.34, -180.77, 866.27))\n",
      "37 CandidateInfoTuple(isNodule_bool=True, diameter_mm=0.0, series_uid='1.3.6.1.4.1.14519.5.2.1.6279.6001.826829446346820089862659555750', center_xyz=(54.65, -43.8, -214.74))\n",
      "38 CandidateInfoTuple(isNodule_bool=True, diameter_mm=6.429381085, series_uid='1.3.6.1.4.1.14519.5.2.1.6279.6001.244442540088515471945035689377', center_xyz=(73.67, -119.7, -208.89))\n",
      "39 CandidateInfoTuple(isNodule_bool=True, diameter_mm=0.0, series_uid='1.3.6.1.4.1.14519.5.2.1.6279.6001.144883090372691745980459537053', center_xyz=(143.43, 52.57, -314.72))\n",
      "40 CandidateInfoTuple(isNodule_bool=True, diameter_mm=0.0, series_uid='1.3.6.1.4.1.14519.5.2.1.6279.6001.211051626197585058967163339846', center_xyz=(39.64, -161.12, -133.38))\n",
      "41 CandidateInfoTuple(isNodule_bool=True, diameter_mm=14.95279904, series_uid='1.3.6.1.4.1.14519.5.2.1.6279.6001.124663713663969377020085460568', center_xyz=(78.690759985, 16.779742975, -96.023744615))\n",
      "42 CandidateInfoTuple(isNodule_bool=True, diameter_mm=22.13322034, series_uid='1.3.6.1.4.1.14519.5.2.1.6279.6001.121391737347333465796214915391', center_xyz=(46.423809125, -64.87603544, -122.4506795))\n",
      "43 CandidateInfoTuple(isNodule_bool=True, diameter_mm=8.117918353, series_uid='1.3.6.1.4.1.14519.5.2.1.6279.6001.975426625618184773401026809852', center_xyz=(53.4112740527, 84.8638670506, -105.743201967))\n",
      "44 CandidateInfoTuple(isNodule_bool=True, diameter_mm=7.636326684, series_uid='1.3.6.1.4.1.14519.5.2.1.6279.6001.270152671889301412052226973069', center_xyz=(-93.8132570839, 60.4945435203, -184.439472241))\n",
      "45 CandidateInfoTuple(isNodule_bool=True, diameter_mm=5.063187041, series_uid='1.3.6.1.4.1.14519.5.2.1.6279.6001.218476624578721885561483687176', center_xyz=(96.95, 1.41, -74.15))\n",
      "46 CandidateInfoTuple(isNodule_bool=True, diameter_mm=4.251282657, series_uid='1.3.6.1.4.1.14519.5.2.1.6279.6001.292057261351416339496913597985', center_xyz=(-92.3838334381, -208.569000109, -202.591388994))\n",
      "47 CandidateInfoTuple(isNodule_bool=True, diameter_mm=6.736648953, series_uid='1.3.6.1.4.1.14519.5.2.1.6279.6001.124663713663969377020085460568', center_xyz=(-59.54, 50.28, -94.39))\n",
      "48 CandidateInfoTuple(isNodule_bool=True, diameter_mm=0.0, series_uid='1.3.6.1.4.1.14519.5.2.1.6279.6001.100621383016233746780170740405', center_xyz=(5.99, 171.94, -398.37))\n",
      "49 CandidateInfoTuple(isNodule_bool=True, diameter_mm=3.82131275, series_uid='1.3.6.1.4.1.14519.5.2.1.6279.6001.338875090785618956575597613546', center_xyz=(85.39, 74.96, -204.63))\n",
      "50 CandidateInfoTuple(isNodule_bool=True, diameter_mm=0.0, series_uid='1.3.6.1.4.1.14519.5.2.1.6279.6001.481278873893653517789960724156', center_xyz=(-98.74, -11.27, -195.31))\n",
      "51 CandidateInfoTuple(isNodule_bool=True, diameter_mm=4.450273187, series_uid='1.3.6.1.4.1.14519.5.2.1.6279.6001.185226274332527104841463955058', center_xyz=(116.93, 9.81, -210.68))\n",
      "52 CandidateInfoTuple(isNodule_bool=True, diameter_mm=15.353919, series_uid='1.3.6.1.4.1.14519.5.2.1.6279.6001.780558315515979171413904604168', center_xyz=(-108.047589241, -95.4700288586, -210.370871863))\n",
      "53 CandidateInfoTuple(isNodule_bool=True, diameter_mm=4.473572199, series_uid='1.3.6.1.4.1.14519.5.2.1.6279.6001.312704771348460502013249647868', center_xyz=(94.6, 91.55, -84.72))\n",
      "54 CandidateInfoTuple(isNodule_bool=True, diameter_mm=5.264434857, series_uid='1.3.6.1.4.1.14519.5.2.1.6279.6001.204303454658845815034433453512', center_xyz=(-49.06, -129.49, 996.2))\n",
      "55 CandidateInfoTuple(isNodule_bool=True, diameter_mm=8.515646762, series_uid='1.3.6.1.4.1.14519.5.2.1.6279.6001.323753921818102744511069914832', center_xyz=(87.028496338, 30.0176170213, -267.025672395))\n",
      "56 CandidateInfoTuple(isNodule_bool=True, diameter_mm=0.0, series_uid='1.3.6.1.4.1.14519.5.2.1.6279.6001.970428941353693253759289796610', center_xyz=(-115.416164889, -4.98657461196, -126.169926987))\n",
      "57 CandidateInfoTuple(isNodule_bool=True, diameter_mm=4.775243237, series_uid='1.3.6.1.4.1.14519.5.2.1.6279.6001.168605638657404145360275453085', center_xyz=(112.98, -57.7, -141.68))\n",
      "58 CandidateInfoTuple(isNodule_bool=True, diameter_mm=6.024061049, series_uid='1.3.6.1.4.1.14519.5.2.1.6279.6001.259543921154154401875872845498', center_xyz=(-57.3, -70.74, -160.31))\n",
      "59 CandidateInfoTuple(isNodule_bool=True, diameter_mm=7.901903032, series_uid='1.3.6.1.4.1.14519.5.2.1.6279.6001.910435939545691201820711078950', center_xyz=(-63.43, 83.25, -148.16))\n",
      "60 CandidateInfoTuple(isNodule_bool=True, diameter_mm=18.86783511, series_uid='1.3.6.1.4.1.14519.5.2.1.6279.6001.323408652979949774528873200770', center_xyz=(70.8255923438, 27.9653840377, -101.655301073))\n",
      "61 CandidateInfoTuple(isNodule_bool=True, diameter_mm=0.0, series_uid='1.3.6.1.4.1.14519.5.2.1.6279.6001.179049373636438705059720603192', center_xyz=(63.699609572, 81.5097769048, -111.772199008))\n",
      "62 CandidateInfoTuple(isNodule_bool=True, diameter_mm=4.872378109, series_uid='1.3.6.1.4.1.14519.5.2.1.6279.6001.199220738144407033276946096708', center_xyz=(-108.614708405, 248.001736013, -743.362777894))\n",
      "63 CandidateInfoTuple(isNodule_bool=True, diameter_mm=21.08245746, series_uid='1.3.6.1.4.1.14519.5.2.1.6279.6001.323753921818102744511069914832', center_xyz=(97.0113860538, 57.5982093699, -278.590343715))\n",
      "64 CandidateInfoTuple(isNodule_bool=True, diameter_mm=5.970538617, series_uid='1.3.6.1.4.1.14519.5.2.1.6279.6001.250397690690072950000431855143', center_xyz=(-56.36, 3.64, -154.47))\n",
      "65 CandidateInfoTuple(isNodule_bool=True, diameter_mm=8.269325422, series_uid='1.3.6.1.4.1.14519.5.2.1.6279.6001.114218724025049818743426522343', center_xyz=(-128.0498488, -29.62517137, -254.7713583))\n",
      "66 CandidateInfoTuple(isNodule_bool=True, diameter_mm=0.0, series_uid='1.3.6.1.4.1.14519.5.2.1.6279.6001.226383054119800793308721198594', center_xyz=(-91.45, 197.57, -631.33))\n",
      "67 CandidateInfoTuple(isNodule_bool=True, diameter_mm=5.85837472, series_uid='1.3.6.1.4.1.14519.5.2.1.6279.6001.128059192202504367870633619224', center_xyz=(87.35, 16.81, -273.11))\n",
      "68 CandidateInfoTuple(isNodule_bool=True, diameter_mm=4.97609166, series_uid='1.3.6.1.4.1.14519.5.2.1.6279.6001.154703816225841204080664115280', center_xyz=(-97.9749488649, -34.2856635271, -221.002217417))\n",
      "69 CandidateInfoTuple(isNodule_bool=True, diameter_mm=6.162972621, series_uid='1.3.6.1.4.1.14519.5.2.1.6279.6001.910435939545691201820711078950', center_xyz=(-91.2889907452, -6.79332126973, -218.642696739))\n",
      "70 CandidateInfoTuple(isNodule_bool=True, diameter_mm=10.80320051, series_uid='1.3.6.1.4.1.14519.5.2.1.6279.6001.438308540025607517017949816111', center_xyz=(-96.8715694025, -22.4960050163, -164.803292551))\n",
      "71 CandidateInfoTuple(isNodule_bool=True, diameter_mm=7.98502287, series_uid='1.3.6.1.4.1.14519.5.2.1.6279.6001.826812708000318290301835871780', center_xyz=(-42.25, -52.72, -128.45))\n",
      "72 CandidateInfoTuple(isNodule_bool=True, diameter_mm=4.141481922, series_uid='1.3.6.1.4.1.14519.5.2.1.6279.6001.231002159523969307155990628066', center_xyz=(52.87, 1.79, -105.94))\n",
      "73 CandidateInfoTuple(isNodule_bool=True, diameter_mm=5.509268361, series_uid='1.3.6.1.4.1.14519.5.2.1.6279.6001.202464973819273687476049035824', center_xyz=(82.94, 88.48, -232.87))\n",
      "74 CandidateInfoTuple(isNodule_bool=True, diameter_mm=11.05222629, series_uid='1.3.6.1.4.1.14519.5.2.1.6279.6001.324290109423920971676288828329', center_xyz=(-91.12596653, -177.78121605, -171.4800184))\n",
      "75 CandidateInfoTuple(isNodule_bool=True, diameter_mm=4.653858021, series_uid='1.3.6.1.4.1.14519.5.2.1.6279.6001.584871944187559733312703328980', center_xyz=(71.848635272, 73.8563610762, -83.5882260235))\n",
      "76 CandidateInfoTuple(isNodule_bool=True, diameter_mm=10.72670328, series_uid='1.3.6.1.4.1.14519.5.2.1.6279.6001.259227883564429312164962953756', center_xyz=(-29.7666299296, 46.8355103048, -84.0750491688))\n",
      "77 CandidateInfoTuple(isNodule_bool=True, diameter_mm=7.000523906, series_uid='1.3.6.1.4.1.14519.5.2.1.6279.6001.295420274214095686326263147663', center_xyz=(-46.1961954943, 75.8948313553, -161.12479227))\n",
      "78 CandidateInfoTuple(isNodule_bool=True, diameter_mm=6.32263359, series_uid='1.3.6.1.4.1.14519.5.2.1.6279.6001.197063290812663596858124411210', center_xyz=(-85.0924572049, -50.0895798049, -176.164329624))\n",
      "79 CandidateInfoTuple(isNodule_bool=True, diameter_mm=0.0, series_uid='1.3.6.1.4.1.14519.5.2.1.6279.6001.160124400349792614505500125883', center_xyz=(-48.933751185, 20.638404385, -95.384488795))\n",
      "80 CandidateInfoTuple(isNodule_bool=True, diameter_mm=3.885893197, series_uid='1.3.6.1.4.1.14519.5.2.1.6279.6001.466284753932369813717081722101', center_xyz=(103.55, -182.51, -101.54))\n",
      "81 CandidateInfoTuple(isNodule_bool=True, diameter_mm=17.30912384, series_uid='1.3.6.1.4.1.14519.5.2.1.6279.6001.725023183844147505748475581290', center_xyz=(-64.9498295957, 212.532831249, -494.687042539))\n",
      "82 CandidateInfoTuple(isNodule_bool=True, diameter_mm=5.087935069, series_uid='1.3.6.1.4.1.14519.5.2.1.6279.6001.401389720232123950202941034290', center_xyz=(-82.51, -42.56, -207.64))\n",
      "83 CandidateInfoTuple(isNodule_bool=True, diameter_mm=13.59647134, series_uid='1.3.6.1.4.1.14519.5.2.1.6279.6001.109002525524522225658609808059', center_xyz=(46.00314143, 47.66525294, -108.4822128))\n",
      "84 CandidateInfoTuple(isNodule_bool=True, diameter_mm=16.88290495, series_uid='1.3.6.1.4.1.14519.5.2.1.6279.6001.112740418331256326754121315800', center_xyz=(-59.916324155, -64.81556144, -100.0689311))\n",
      "85 CandidateInfoTuple(isNodule_bool=True, diameter_mm=10.98914009, series_uid='1.3.6.1.4.1.14519.5.2.1.6279.6001.511347030803753100045216493273', center_xyz=(-108.732902775, -38.2541652087, -199.158196279))\n",
      "86 CandidateInfoTuple(isNodule_bool=True, diameter_mm=0.0, series_uid='1.3.6.1.4.1.14519.5.2.1.6279.6001.674809958213117379592437424616', center_xyz=(109.08, 26.96, -74.99))\n",
      "87 CandidateInfoTuple(isNodule_bool=True, diameter_mm=4.730361001, series_uid='1.3.6.1.4.1.14519.5.2.1.6279.6001.253322967203074795232627653819', center_xyz=(-81.09, -56.71, -167.74))\n",
      "88 CandidateInfoTuple(isNodule_bool=True, diameter_mm=14.88143912, series_uid='1.3.6.1.4.1.14519.5.2.1.6279.6001.208737629504245244513001631764', center_xyz=(97.67643527, 37.77078568, -70.32903988))\n",
      "89 CandidateInfoTuple(isNodule_bool=True, diameter_mm=6.242190906, series_uid='1.3.6.1.4.1.14519.5.2.1.6279.6001.249530219848512542668813996730', center_xyz=(145.81, 33.61, -189.8))\n",
      "90 CandidateInfoTuple(isNodule_bool=True, diameter_mm=19.57555466, series_uid='1.3.6.1.4.1.14519.5.2.1.6279.6001.252634638822000832774167856951', center_xyz=(60.4248994838, 67.1512058204, -99.1406061111))\n",
      "91 CandidateInfoTuple(isNodule_bool=True, diameter_mm=5.489049464, series_uid='1.3.6.1.4.1.14519.5.2.1.6279.6001.693480911433291675609148051914', center_xyz=(-83.7931849552, 112.05528328, -618.425665918))\n",
      "92 CandidateInfoTuple(isNodule_bool=True, diameter_mm=7.6317087, series_uid='1.3.6.1.4.1.14519.5.2.1.6279.6001.114218724025049818743426522343', center_xyz=(74.65, 6.33, -195.23))\n",
      "93 CandidateInfoTuple(isNodule_bool=True, diameter_mm=11.10051888, series_uid='1.3.6.1.4.1.14519.5.2.1.6279.6001.219087313261026510628926082729', center_xyz=(-64.88987189, 196.9697692, -469.20840415))\n",
      "94 CandidateInfoTuple(isNodule_bool=True, diameter_mm=0.0, series_uid='1.3.6.1.4.1.14519.5.2.1.6279.6001.970428941353693253759289796610', center_xyz=(-107.92, 72.82, -133.53))\n",
      "95 CandidateInfoTuple(isNodule_bool=True, diameter_mm=6.418972326, series_uid='1.3.6.1.4.1.14519.5.2.1.6279.6001.312704771348460502013249647868', center_xyz=(103.71, 110.47, -170.44))\n",
      "96 CandidateInfoTuple(isNodule_bool=True, diameter_mm=9.376296072, series_uid='1.3.6.1.4.1.14519.5.2.1.6279.6001.161855583909753609742728521805', center_xyz=(-52.559818395, 240.09924765, -634.94250595))\n",
      "97 CandidateInfoTuple(isNodule_bool=True, diameter_mm=9.587295623, series_uid='1.3.6.1.4.1.14519.5.2.1.6279.6001.162718361851587451505896742103', center_xyz=(-26.4309803057, -91.5141781646, -201.131626823))\n",
      "98 CandidateInfoTuple(isNodule_bool=True, diameter_mm=23.35064438, series_uid='1.3.6.1.4.1.14519.5.2.1.6279.6001.179049373636438705059720603192', center_xyz=(50.4361084414, 90.0424445754, -113.908439345))\n",
      "99 CandidateInfoTuple(isNodule_bool=True, diameter_mm=12.03275908, series_uid='1.3.6.1.4.1.14519.5.2.1.6279.6001.826829446346820089862659555750', center_xyz=(44.103470965, -34.22792664, -141.57679065))\n"
     ]
    }
   ],
   "source": [
    "from vis import findPositiveSamples, showCandidate\n",
    "positiveSample_list = findPositiveSamples()"
   ]
  },
  {
   "cell_type": "code",
   "execution_count": 83,
   "id": "0e64f8e8-3623-451b-a8b8-b05edc42ed41",
   "metadata": {},
   "outputs": [
    {
     "name": "stderr",
     "output_type": "stream",
     "text": [
      "2023-01-24 18:26:55,858 INFO     pid:76696 dsets:171:__init__ <dsets.LunaDataset object at 0x7fe890b2f0d0>: 717 training samples\n"
     ]
    },
    {
     "name": "stdout",
     "output_type": "stream",
     "text": [
      "1.3.6.1.4.1.14519.5.2.1.6279.6001.324290109423920971676288828329 129 False [129, 187, 383, 673]\n"
     ]
    }
   ],
   "source": [
    "series_uid = positiveSample_list[11][2]\n",
    "showCandidate(series_uid)"
   ]
  },
  {
   "cell_type": "code",
   "execution_count": 84,
   "id": "d73cf42f-18af-4ca0-bab0-6225ddb5856f",
   "metadata": {},
   "outputs": [
    {
     "name": "stderr",
     "output_type": "stream",
     "text": [
      "2023-01-24 18:27:53,014 INFO     pid:76696 dsets:171:__init__ <dsets.LunaDataset object at 0x7fe893bc5c70>: 1061 training samples\n"
     ]
    },
    {
     "name": "stdout",
     "output_type": "stream",
     "text": [
      "1.3.6.1.4.1.14519.5.2.1.6279.6001.124154461048929153767743874565 59 False [59]\n"
     ]
    }
   ],
   "source": [
    "series_uid = '1.3.6.1.4.1.14519.5.2.1.6279.6001.124154461048929153767743874565'\n",
    "showCandidate(series_uid)"
   ]
  },
  {
   "cell_type": "code",
   "execution_count": 86,
   "id": "69b88388-22bb-41c3-b217-e9b8fc916ff3",
   "metadata": {},
   "outputs": [
    {
     "name": "stderr",
     "output_type": "stream",
     "text": [
      "2023-01-24 18:28:24,269 INFO     pid:76696 dsets:171:__init__ <dsets.LunaDataset object at 0x7fe88c125190>: 605 training samples\n"
     ]
    },
    {
     "name": "stdout",
     "output_type": "stream",
     "text": [
      "1.3.6.1.4.1.14519.5.2.1.6279.6001.126264578931778258890371755354 140 False [140]\n"
     ]
    }
   ],
   "source": [
    "series_uid = '1.3.6.1.4.1.14519.5.2.1.6279.6001.126264578931778258890371755354'\n",
    "showCandidate(series_uid)"
   ]
  },
  {
   "cell_type": "markdown",
   "id": "5a170ee3-df5d-4b38-a5b4-b17b1a127049",
   "metadata": {},
   "source": [
    "# モデルの作成"
   ]
  },
  {
   "cell_type": "code",
   "execution_count": 103,
   "id": "4d738d3d-2404-47ab-8c28-81f898fe2415",
   "metadata": {},
   "outputs": [],
   "source": [
    "from util.logconf import logging\n",
    "from util.util import importstr\n",
    "log = logging.getLogger('nb')"
   ]
  },
  {
   "cell_type": "code",
   "execution_count": 113,
   "id": "576b6121-fecf-4076-95d8-c34618721a09",
   "metadata": {},
   "outputs": [],
   "source": [
    "def run(app, *argv):\n",
    "    argv = list(argv)\n",
    "    argv.insert(0, '--num_workers=4')\n",
    "    log.info('Running: {}({!r}).main()'.format(app, argv))\n",
    "    \n",
    "    app_cls = importstr(*app.rsplit('.', 1))\n",
    "    app_cls(argv).main()\n",
    "    \n",
    "    log.info(\"Finished; {}.{!r}.main()\".format(app, argv))"
   ]
  },
  {
   "cell_type": "code",
   "execution_count": 114,
   "id": "e0c3d3fb-a1b9-4519-9c9e-8047e85fcb7e",
   "metadata": {},
   "outputs": [
    {
     "name": "stderr",
     "output_type": "stream",
     "text": [
      "2023-01-24 22:48:37,404 INFO     pid:76696 nb:004:run Running: training.LunaTrainingApp(['--num_workers=4', '--epochs=1']).main()\n",
      "usage: ipykernel_launcher.py [-h] [--batch-size BATCH_SIZE]\n",
      "                             [--num-workers NUM_WORKERS] [--epochs EPOCHS]\n",
      "                             [--balanced] [--augmented] [--augment-flip]\n",
      "                             [--augment-offset] [--augment-scale]\n",
      "                             [--augment-rotate] [--augment-noise]\n",
      "                             [--tb-prefix TB_PREFIX]\n",
      "                             [comment]\n",
      "ipykernel_launcher.py: error: unrecognized arguments: --num_workers=4\n"
     ]
    },
    {
     "ename": "SystemExit",
     "evalue": "2",
     "output_type": "error",
     "traceback": [
      "An exception has occurred, use %tb to see the full traceback.\n",
      "\u001b[0;31mSystemExit\u001b[0m\u001b[0;31m:\u001b[0m 2\n"
     ]
    }
   ],
   "source": [
    "run('training.LunaTrainingApp','--epochs=1')"
   ]
  },
  {
   "cell_type": "code",
   "execution_count": 110,
   "id": "0282e1a4-a072-4f6b-aac5-7691ba5eb3fb",
   "metadata": {},
   "outputs": [],
   "source": [
    "def run(app, *argv):\n",
    "    argv = list(argv)\n",
    "    argv.insert(0, '--num-workers=4')  # <1>\n",
    "    log.info(\"Running: {}({!r}).main()\".format(app, argv))\n",
    "    \n",
    "    app_cls = importstr(*app.rsplit('.', 1))  # <2>\n",
    "    app_cls(argv).main()\n",
    "    \n",
    "    log.info(\"Finished: {}.{!r}).main()\".format(app, argv))"
   ]
  },
  {
   "cell_type": "code",
   "execution_count": null,
   "id": "c4b1f197-67a3-4d0f-b887-c9652749b817",
   "metadata": {},
   "outputs": [],
   "source": []
  }
 ],
 "metadata": {
  "kernelspec": {
   "display_name": "Python 3 (ipykernel)",
   "language": "python",
   "name": "python3"
  },
  "language_info": {
   "codemirror_mode": {
    "name": "ipython",
    "version": 3
   },
   "file_extension": ".py",
   "mimetype": "text/x-python",
   "name": "python",
   "nbconvert_exporter": "python",
   "pygments_lexer": "ipython3",
   "version": "3.9.12"
  }
 },
 "nbformat": 4,
 "nbformat_minor": 5
}
